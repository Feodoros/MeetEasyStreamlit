{
 "cells": [
  {
   "cell_type": "code",
   "execution_count": 1,
   "id": "edf4d095",
   "metadata": {},
   "outputs": [],
   "source": [
    "import subprocess"
   ]
  },
  {
   "cell_type": "code",
   "execution_count": 2,
   "id": "dc99e60d",
   "metadata": {},
   "outputs": [],
   "source": [
    "import os"
   ]
  },
  {
   "cell_type": "code",
   "execution_count": 5,
   "id": "f3489f54",
   "metadata": {},
   "outputs": [],
   "source": [
    "input_path = '../../Transcriber/gentle learning w_ Dima.mp3'\n",
    "output_path = '../../Transcriber/gentle learning w_ Dima_shortened.mp3'"
   ]
  },
  {
   "cell_type": "code",
   "execution_count": 6,
   "id": "0e517d9c",
   "metadata": {},
   "outputs": [
    {
     "name": "stderr",
     "output_type": "stream",
     "text": [
      "ffmpeg version 3.4.6-0ubuntu0.18.04.1 Copyright (c) 2000-2019 the FFmpeg developers\n",
      "  built with gcc 7 (Ubuntu 7.3.0-16ubuntu3)\n",
      "  configuration: --prefix=/usr --extra-version=0ubuntu0.18.04.1 --toolchain=hardened --libdir=/usr/lib/x86_64-linux-gnu --incdir=/usr/include/x86_64-linux-gnu --enable-gpl --disable-stripping --enable-avresample --enable-avisynth --enable-gnutls --enable-ladspa --enable-libass --enable-libbluray --enable-libbs2b --enable-libcaca --enable-libcdio --enable-libflite --enable-libfontconfig --enable-libfreetype --enable-libfribidi --enable-libgme --enable-libgsm --enable-libmp3lame --enable-libmysofa --enable-libopenjpeg --enable-libopenmpt --enable-libopus --enable-libpulse --enable-librubberband --enable-librsvg --enable-libshine --enable-libsnappy --enable-libsoxr --enable-libspeex --enable-libssh --enable-libtheora --enable-libtwolame --enable-libvorbis --enable-libvpx --enable-libwavpack --enable-libwebp --enable-libx265 --enable-libxml2 --enable-libxvid --enable-libzmq --enable-libzvbi --enable-omx --enable-openal --enable-opengl --enable-sdl2 --enable-libdc1394 --enable-libdrm --enable-libiec61883 --enable-chromaprint --enable-frei0r --enable-libopencv --enable-libx264 --enable-shared\n",
      "  libavutil      55. 78.100 / 55. 78.100\n",
      "  libavcodec     57.107.100 / 57.107.100\n",
      "  libavformat    57. 83.100 / 57. 83.100\n",
      "  libavdevice    57. 10.100 / 57. 10.100\n",
      "  libavfilter     6.107.100 /  6.107.100\n",
      "  libavresample   3.  7.  0 /  3.  7.  0\n",
      "  libswscale      4.  8.100 /  4.  8.100\n",
      "  libswresample   2.  9.100 /  2.  9.100\n",
      "  libpostproc    54.  7.100 / 54.  7.100\n",
      "Input #0, mp3, from '../../Transcriber/gentle learning w_ Dima.mp3':\n",
      "  Metadata:\n",
      "    major_brand     : M4V \n",
      "    minor_version   : 1\n",
      "    compatible_brands: M4V M4A isommp42\n",
      "    artist          : Pavlik\n",
      "    title           : mc Dimas\n",
      "    keywords        : 17.08.2022,2 день,димас съемка еманая\n",
      "    encoder         : Lavf58.76.100\n",
      "  Duration: 00:00:51.31, start: 0.023021, bitrate: 363 kb/s\n",
      "    Stream #0:0: Audio: mp3, 48000 Hz, stereo, s16p, 256 kb/s\n",
      "    Metadata:\n",
      "      encoder         : Lavc58.13\n",
      "    Stream #0:1: Video: png, rgb24(pc), 1920x960 [SAR 1:1 DAR 2:1], 90k tbr, 90k tbn, 90k tbc\n",
      "    Metadata:\n",
      "      comment         : Other\n",
      "Output #0, mp3, to '../../Transcriber/gentle learning w_ Dima_shortened.mp3':\n",
      "  Metadata:\n",
      "    major_brand     : M4V \n",
      "    minor_version   : 1\n",
      "    compatible_brands: M4V M4A isommp42\n",
      "    TPE1            : Pavlik\n",
      "    TIT2            : mc Dimas\n",
      "    keywords        : 17.08.2022,2 день,димас съемка еманая\n",
      "    TSSE            : Lavf57.83.100\n",
      "    Stream #0:0: Video: png, rgb24(pc), 1920x960 [SAR 1:1 DAR 2:1], q=2-31, 90k tbr, 90k tbn, 90k tbc\n",
      "    Metadata:\n",
      "      comment         : Other\n",
      "    Stream #0:1: Audio: mp3, 48000 Hz, stereo, s16p, 256 kb/s\n",
      "    Metadata:\n",
      "      encoder         : Lavc58.13\n",
      "Stream mapping:\n",
      "  Stream #0:1 -> #0:0 (copy)\n",
      "  Stream #0:0 -> #0:1 (copy)\n",
      "Press [q] to stop, [?] for help\n",
      "frame=    1 fps=0.0 q=-1.0 Lsize=    1302kB time=00:00:19.99 bitrate= 533.5kbits/s speed=1.53e+03x    \n",
      "video:667kB audio:634kB subtitle:0kB other streams:0kB global headers:0kB muxing overhead: 0.079118%\n"
     ]
    },
    {
     "data": {
      "text/plain": [
       "0"
      ]
     },
     "execution_count": 6,
     "metadata": {},
     "output_type": "execute_result"
    }
   ],
   "source": [
    "subprocess.call(['ffmpeg', '-i', input_path,'-to','20','-c', 'copy', output_path])"
   ]
  },
  {
   "cell_type": "code",
   "execution_count": 8,
   "id": "16f7f5f2",
   "metadata": {},
   "outputs": [
    {
     "data": {
      "text/plain": [
       "'../../Transcriber/gentle learning w_ Dima_shortened.mp3'"
      ]
     },
     "execution_count": 8,
     "metadata": {},
     "output_type": "execute_result"
    }
   ],
   "source": [
    "output_path"
   ]
  },
  {
   "cell_type": "code",
   "execution_count": 13,
   "id": "c90fc173",
   "metadata": {},
   "outputs": [
    {
     "data": {
      "text/plain": [
       "'../../Transcriber/gentle learning w_ Dima_shortened.wav'"
      ]
     },
     "execution_count": 13,
     "metadata": {},
     "output_type": "execute_result"
    }
   ],
   "source": []
  },
  {
   "cell_type": "code",
   "execution_count": 14,
   "id": "c6131313",
   "metadata": {},
   "outputs": [
    {
     "name": "stderr",
     "output_type": "stream",
     "text": [
      "ffmpeg version 3.4.6-0ubuntu0.18.04.1 Copyright (c) 2000-2019 the FFmpeg developers\n",
      "  built with gcc 7 (Ubuntu 7.3.0-16ubuntu3)\n",
      "  configuration: --prefix=/usr --extra-version=0ubuntu0.18.04.1 --toolchain=hardened --libdir=/usr/lib/x86_64-linux-gnu --incdir=/usr/include/x86_64-linux-gnu --enable-gpl --disable-stripping --enable-avresample --enable-avisynth --enable-gnutls --enable-ladspa --enable-libass --enable-libbluray --enable-libbs2b --enable-libcaca --enable-libcdio --enable-libflite --enable-libfontconfig --enable-libfreetype --enable-libfribidi --enable-libgme --enable-libgsm --enable-libmp3lame --enable-libmysofa --enable-libopenjpeg --enable-libopenmpt --enable-libopus --enable-libpulse --enable-librubberband --enable-librsvg --enable-libshine --enable-libsnappy --enable-libsoxr --enable-libspeex --enable-libssh --enable-libtheora --enable-libtwolame --enable-libvorbis --enable-libvpx --enable-libwavpack --enable-libwebp --enable-libx265 --enable-libxml2 --enable-libxvid --enable-libzmq --enable-libzvbi --enable-omx --enable-openal --enable-opengl --enable-sdl2 --enable-libdc1394 --enable-libdrm --enable-libiec61883 --enable-chromaprint --enable-frei0r --enable-libopencv --enable-libx264 --enable-shared\n",
      "  libavutil      55. 78.100 / 55. 78.100\n",
      "  libavcodec     57.107.100 / 57.107.100\n",
      "  libavformat    57. 83.100 / 57. 83.100\n",
      "  libavdevice    57. 10.100 / 57. 10.100\n",
      "  libavfilter     6.107.100 /  6.107.100\n",
      "  libavresample   3.  7.  0 /  3.  7.  0\n",
      "  libswscale      4.  8.100 /  4.  8.100\n",
      "  libswresample   2.  9.100 /  2.  9.100\n",
      "  libpostproc    54.  7.100 / 54.  7.100\n",
      "Input #0, mp3, from '../../Transcriber/gentle learning w_ Dima_shortened.mp3':\n",
      "  Metadata:\n",
      "    major_brand     : M4V \n",
      "    minor_version   : 1\n",
      "    compatible_brands: M4V M4A isommp42\n",
      "    artist          : Pavlik\n",
      "    title           : mc Dimas\n",
      "    keywords        : 17.08.2022,2 день,димас съемка еманая\n",
      "    encoder         : Lavf57.83.100\n",
      "  Duration: 00:00:20.04, start: 0.023021, bitrate: 532 kb/s\n",
      "    Stream #0:0: Audio: mp3, 48000 Hz, stereo, s16p, 259 kb/s\n",
      "    Metadata:\n",
      "      encoder         : Lavc58.13\n",
      "    Stream #0:1: Video: png, rgb24(pc), 1920x960 [SAR 1:1 DAR 2:1], 90k tbr, 90k tbn, 90k tbc\n",
      "    Metadata:\n",
      "      comment         : Other\n",
      "Stream mapping:\n",
      "  Stream #0:0 -> #0:0 (mp3 (native) -> pcm_u8 (native))\n",
      "Press [q] to stop, [?] for help\n",
      "Output #0, wav, to '../../Transcriber/gentle learning w_ Dima_shortened.wav':\n",
      "  Metadata:\n",
      "    major_brand     : M4V \n",
      "    minor_version   : 1\n",
      "    compatible_brands: M4V M4A isommp42\n",
      "    IART            : Pavlik\n",
      "    INAM            : mc Dimas\n",
      "    keywords        : 17.08.2022,2 день,димас съемка еманая\n",
      "    ISFT            : Lavf57.83.100\n",
      "    Stream #0:0: Audio: pcm_u8 ([1][0][0][0] / 0x0001), 16000 Hz, stereo, u8, 256 kb/s\n",
      "    Metadata:\n",
      "      encoder         : Lavc57.107.100 pcm_u8\n",
      "size=     626kB time=00:00:20.01 bitrate= 256.0kbits/s speed= 347x    \n",
      "video:0kB audio:626kB subtitle:0kB other streams:0kB global headers:0kB muxing overhead: 0.017485%\n"
     ]
    },
    {
     "data": {
      "text/plain": [
       "0"
      ]
     },
     "execution_count": 14,
     "metadata": {},
     "output_type": "execute_result"
    }
   ],
   "source": [
    "subprocess.call(['ffmpeg', '-i', output_path,'-acodec','pcm_u8','-ar', '16000', \".\".join(output_path.split('.')[:-1]+['wav'])])"
   ]
  },
  {
   "cell_type": "code",
   "execution_count": 18,
   "id": "cd438b04",
   "metadata": {},
   "outputs": [],
   "source": [
    "import torchaudio"
   ]
  },
  {
   "cell_type": "code",
   "execution_count": 19,
   "id": "009f5014",
   "metadata": {},
   "outputs": [
    {
     "name": "stderr",
     "output_type": "stream",
     "text": [
      "Using cache found in /home/marina/.cache/torch/hub/snakers4_silero-vad_master\n"
     ]
    },
    {
     "data": {
      "application/vnd.jupyter.widget-view+json": {
       "model_id": "8b31d731b69147619e89344b369368af",
       "version_major": 2,
       "version_minor": 0
      },
      "text/plain": [
       "HBox(children=(IntProgress(value=0, max=2872441), HTML(value='')))"
      ]
     },
     "metadata": {},
     "output_type": "display_data"
    },
    {
     "name": "stdout",
     "output_type": "stream",
     "text": [
      "\n"
     ]
    }
   ],
   "source": [
    "from lang_identification import *"
   ]
  },
  {
   "cell_type": "code",
   "execution_count": 20,
   "id": "781cbc6f",
   "metadata": {},
   "outputs": [
    {
     "name": "stdout",
     "output_type": "stream",
     "text": [
      "en\n"
     ]
    },
    {
     "name": "stderr",
     "output_type": "stream",
     "text": [
      "/home/marina/.local/lib/python3.7/site-packages/torch/nn/modules/module.py:1130: UserWarning: stft will soon require the return_complex parameter be given for real inputs, and will further require that return_complex=True in a future PyTorch release. (Triggered internally at  ../aten/src/ATen/native/SpectralOps.cpp:803.)\n",
      "  return forward_call(*input, **kwargs)\n"
     ]
    }
   ],
   "source": [
    "wav = read_audio(\".\".join(output_path.split('.')[:-1]+['wav']), sampling_rate=SAMPLING_RATE)\n",
    "lang = get_language(wav, model)\n",
    "print(lang)"
   ]
  },
  {
   "cell_type": "code",
   "execution_count": 2,
   "id": "a26721e8",
   "metadata": {},
   "outputs": [
    {
     "data": {
      "text/plain": [
       "'GH'"
      ]
     },
     "execution_count": 2,
     "metadata": {},
     "output_type": "execute_result"
    }
   ],
   "source": [
    "\"gh\".upper()"
   ]
  }
 ],
 "metadata": {
  "kernelspec": {
   "display_name": "Python 3 (ipykernel)",
   "language": "python",
   "name": "python3"
  },
  "language_info": {
   "codemirror_mode": {
    "name": "ipython",
    "version": 3
   },
   "file_extension": ".py",
   "mimetype": "text/x-python",
   "name": "python",
   "nbconvert_exporter": "python",
   "pygments_lexer": "ipython3",
   "version": "3.7.5"
  }
 },
 "nbformat": 4,
 "nbformat_minor": 5
}
